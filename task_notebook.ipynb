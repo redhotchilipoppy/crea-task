{
 "cells": [
  {
   "cell_type": "code",
   "execution_count": 6,
   "metadata": {
    "_cell_guid": "b1076dfc-b9ad-4769-8c92-a6c4dae69d19",
    "_uuid": "8f2839f25d086af736a60e9eeb907d3b93b6e0e5",
    "execution": {
     "iopub.execute_input": "2025-01-09T20:27:31.970762Z",
     "iopub.status.busy": "2025-01-09T20:27:31.970372Z",
     "iopub.status.idle": "2025-01-09T20:27:31.975802Z",
     "shell.execute_reply": "2025-01-09T20:27:31.974067Z",
     "shell.execute_reply.started": "2025-01-09T20:27:31.970732Z"
    },
    "trusted": true
   },
   "outputs": [],
   "source": [
    "# Imports\n",
    "import pandas as pd      # Used to produce the final results table\n",
    "import requests          # Used to grab data from online sources\n",
    "import geopandas as gdp  # Used to handle geojson data \n",
    "import tabulate          # (Note: tabulate is indirectly used by pandas. I include it here so its more clear that it has to be installed)"
   ]
  },
  {
   "cell_type": "markdown",
   "metadata": {},
   "source": [
    "# Calculating land area for each country  \n",
    "First we will grab coordinate data for each country from the provided url.  \n",
    "Next we will read the the data as a GeoDataFrame using the geopandas library.  \n",
    "The geopandas library will then be used to calculate the land area of each country using its built in methods.  "
   ]
  },
  {
   "cell_type": "code",
   "execution_count": 7,
   "metadata": {
    "execution": {
     "iopub.execute_input": "2025-01-09T20:27:31.993256Z",
     "iopub.status.busy": "2025-01-09T20:27:31.992916Z",
     "iopub.status.idle": "2025-01-09T20:27:36.235342Z",
     "shell.execute_reply": "2025-01-09T20:27:36.234230Z",
     "shell.execute_reply.started": "2025-01-09T20:27:31.993219Z"
    },
    "trusted": true
   },
   "outputs": [
    {
     "data": {
      "text/html": [
       "<div>\n",
       "<style scoped>\n",
       "    .dataframe tbody tr th:only-of-type {\n",
       "        vertical-align: middle;\n",
       "    }\n",
       "\n",
       "    .dataframe tbody tr th {\n",
       "        vertical-align: top;\n",
       "    }\n",
       "\n",
       "    .dataframe thead th {\n",
       "        text-align: right;\n",
       "    }\n",
       "</style>\n",
       "<table border=\"1\" class=\"dataframe\">\n",
       "  <thead>\n",
       "    <tr style=\"text-align: right;\">\n",
       "      <th></th>\n",
       "      <th>geometry</th>\n",
       "      <th>ISO_A3</th>\n",
       "      <th>ISO_A2</th>\n",
       "    </tr>\n",
       "    <tr>\n",
       "      <th>ADMIN</th>\n",
       "      <th></th>\n",
       "      <th></th>\n",
       "      <th></th>\n",
       "    </tr>\n",
       "  </thead>\n",
       "  <tbody>\n",
       "    <tr>\n",
       "      <th>Aruba</th>\n",
       "      <td>MULTIPOLYGON (((-69.99694 12.57758, -69.93639 ...</td>\n",
       "      <td>ABW</td>\n",
       "      <td>AW</td>\n",
       "    </tr>\n",
       "    <tr>\n",
       "      <th>Afghanistan</th>\n",
       "      <td>MULTIPOLYGON (((71.0498 38.40866, 71.05714 38....</td>\n",
       "      <td>AFG</td>\n",
       "      <td>AF</td>\n",
       "    </tr>\n",
       "    <tr>\n",
       "      <th>Angola</th>\n",
       "      <td>MULTIPOLYGON (((11.73752 -16.69258, 11.73851 -...</td>\n",
       "      <td>AGO</td>\n",
       "      <td>AO</td>\n",
       "    </tr>\n",
       "    <tr>\n",
       "      <th>Anguilla</th>\n",
       "      <td>MULTIPOLYGON (((-63.03767 18.21296, -63.09952 ...</td>\n",
       "      <td>AIA</td>\n",
       "      <td>AI</td>\n",
       "    </tr>\n",
       "    <tr>\n",
       "      <th>Albania</th>\n",
       "      <td>MULTIPOLYGON (((19.74777 42.5789, 19.74601 42....</td>\n",
       "      <td>ALB</td>\n",
       "      <td>AL</td>\n",
       "    </tr>\n",
       "  </tbody>\n",
       "</table>\n",
       "</div>"
      ],
      "text/plain": [
       "                                                      geometry ISO_A3 ISO_A2\n",
       "ADMIN                                                                       \n",
       "Aruba        MULTIPOLYGON (((-69.99694 12.57758, -69.93639 ...    ABW     AW\n",
       "Afghanistan  MULTIPOLYGON (((71.0498 38.40866, 71.05714 38....    AFG     AF\n",
       "Angola       MULTIPOLYGON (((11.73752 -16.69258, 11.73851 -...    AGO     AO\n",
       "Anguilla     MULTIPOLYGON (((-63.03767 18.21296, -63.09952 ...    AIA     AI\n",
       "Albania      MULTIPOLYGON (((19.74777 42.5789, 19.74601 42....    ALB     AL"
      ]
     },
     "execution_count": 7,
     "metadata": {},
     "output_type": "execute_result"
    }
   ],
   "source": [
    "countries_coordinates = requests.get(\"https://datahub.io/core/geo-countries/_r/-/data/countries.geojson\")  # Grab the data from the url\n",
    "gdf = gdp.GeoDataFrame.from_features(countries_coordinates.json()[\"features\"], crs='EPSG:4326')            # Read the data as a geodataframe using the EPSG:4326 coordinate system\n",
    "gdf = gdf.set_index('ADMIN',drop = True)                                                                   # Set the column \"ADMIN\" as index so that the full country name is used as index\n",
    "gdf.head()                                                                                                 # Take a look at the geodataframe"
   ]
  },
  {
   "cell_type": "markdown",
   "metadata": {},
   "source": [
    "Now we will calculate the area of each county.  \n",
    "We do this by first making a copy of the geodataframe, then changing the projection of the copy so that area is preserved correctly.  \n",
    "Afterwards we can simply use \".areas\" on the copied data frame to calculate the area of every country. "
   ]
  },
  {
   "cell_type": "code",
   "execution_count": 8,
   "metadata": {
    "execution": {
     "iopub.execute_input": "2025-01-09T20:27:36.237206Z",
     "iopub.status.busy": "2025-01-09T20:27:36.236817Z",
     "iopub.status.idle": "2025-01-09T20:27:36.348575Z",
     "shell.execute_reply": "2025-01-09T20:27:36.347536Z",
     "shell.execute_reply.started": "2025-01-09T20:27:36.237166Z"
    },
    "trusted": true
   },
   "outputs": [
    {
     "data": {
      "text/plain": [
       "ADMIN\n",
       "United States of America    9.464444e+06\n",
       "United Kingdom              2.437825e+05\n",
       "Turkey                      7.800802e+05\n",
       "Thailand                    5.144535e+05\n",
       "Philippines                 2.932375e+05\n",
       "India                       3.151478e+06\n",
       "dtype: float64"
      ]
     },
     "execution_count": 8,
     "metadata": {},
     "output_type": "execute_result"
    }
   ],
   "source": [
    "gdf_2 = gdf.copy()                             # Make a copy of the geodataframe\n",
    "gdf_2 = gdf_2.to_crs({'proj':'cea'})           # Change the copys projection, in this case I choose to use Lambert Cylindrical Equal \n",
    "areas = gdf_2.area/1000000                     # Calculate the area for every country in km^2\n",
    "\n",
    "# Look at the areas of the countries we are interrested in\n",
    "countries = ['United States of America','United Kingdom','Turkey','Thailand','Philippines','India'] \n",
    "areas[countries]                            "
   ]
  },
  {
   "cell_type": "markdown",
   "metadata": {},
   "source": [
    "We can verify that our calculation is correct by comparing our results to wikipedia's listing of land areas (https://en.wikipedia.org/wiki/List_of_countries_and_dependencies_by_area):  \n",
    "\n",
    "US: 9147593  \n",
    "UK: 242741   \n",
    "Turkey: 769632   \n",
    "Thailand: 510890   \n",
    "Philippines: 298170   \n",
    "India: 2973190 \n",
    "\n",
    "Unfortunately we see that there are some differences.  \n",
    "Perhaps another map projection would give better results, but it is also possible that the way that land area is defined by wikipedia does not fully align with the coordinates that we have.  \n",
    "Either way we can see that our results are reasonably close."
   ]
  },
  {
   "cell_type": "markdown",
   "metadata": {},
   "source": [
    "# Calculating number of PM10 Stations  \n",
    "Next up we will grab the station data from the provided url.  \n",
    "Also this we will read in as a geodataframe."
   ]
  },
  {
   "cell_type": "code",
   "execution_count": 9,
   "metadata": {
    "execution": {
     "iopub.execute_input": "2025-01-09T20:27:36.351071Z",
     "iopub.status.busy": "2025-01-09T20:27:36.350747Z",
     "iopub.status.idle": "2025-01-09T20:27:45.893744Z",
     "shell.execute_reply": "2025-01-09T20:27:45.892613Z",
     "shell.execute_reply.started": "2025-01-09T20:27:36.351044Z"
    },
    "trusted": true
   },
   "outputs": [
    {
     "name": "stdout",
     "output_type": "stream",
     "text": [
      "<class 'geopandas.geodataframe.GeoDataFrame'>\n",
      "RangeIndex: 6104 entries, 0 to 6103\n",
      "Data columns (total 21 columns):\n",
      " #   Column             Non-Null Count  Dtype   \n",
      "---  ------             --------------  -----   \n",
      " 0   geometry           6104 non-null   geometry\n",
      " 1   infos              5033 non-null   object  \n",
      " 2   last_scraped_data  0 non-null      object  \n",
      " 3   source             6104 non-null   object  \n",
      " 4   first_updated      0 non-null      object  \n",
      " 5   gadm2_id           5397 non-null   object  \n",
      " 6   gpw                0 non-null      object  \n",
      " 7   pollutants         6050 non-null   object  \n",
      " 8   last_updated       6104 non-null   object  \n",
      " 9   name               6104 non-null   object  \n",
      " 10  names              5177 non-null   object  \n",
      " 11  city_id            6104 non-null   object  \n",
      " 12  show_in_dashboard  6104 non-null   bool    \n",
      " 13  timezone           5720 non-null   object  \n",
      " 14  country_id         6104 non-null   object  \n",
      " 15  gadm1_id           5946 non-null   object  \n",
      " 16  id                 6104 non-null   object  \n",
      " 17  level              6104 non-null   object  \n",
      " 18  attribution        4633 non-null   object  \n",
      " 19  type               842 non-null    object  \n",
      " 20  city_name          6104 non-null   object  \n",
      "dtypes: bool(1), geometry(1), object(19)\n",
      "memory usage: 959.8+ KB\n"
     ]
    }
   ],
   "source": [
    "pm10_stations = requests.get(\"https://api.energyandcleanair.org/stations?country=GB,US,TR,PH,IN,TH&format=geojson\")  # Grab the data from the url\n",
    "pm10_gdf = gdp.GeoDataFrame.from_features(pm10_stations.json()[\"features\"])                                          # Read the data as a geodataframe\n",
    "pm10_gdf.info()                                                                                                      # Look at info"
   ]
  },
  {
   "cell_type": "markdown",
   "metadata": {},
   "source": [
    "The next step is to filter out all stations that do not measure pm10.  \n",
    "To do this I have decided to use a simple function that checks if pm10 is included in the list of measured pollutants for each station"
   ]
  },
  {
   "cell_type": "code",
   "execution_count": 10,
   "metadata": {
    "execution": {
     "iopub.execute_input": "2025-01-09T20:27:45.895327Z",
     "iopub.status.busy": "2025-01-09T20:27:45.894968Z",
     "iopub.status.idle": "2025-01-09T20:27:45.981828Z",
     "shell.execute_reply": "2025-01-09T20:27:45.980741Z",
     "shell.execute_reply.started": "2025-01-09T20:27:45.895270Z"
    },
    "trusted": true
   },
   "outputs": [
    {
     "name": "stdout",
     "output_type": "stream",
     "text": [
      "<class 'geopandas.geodataframe.GeoDataFrame'>\n",
      "Index: 2252 entries, 0 to 6100\n",
      "Data columns (total 21 columns):\n",
      " #   Column             Non-Null Count  Dtype   \n",
      "---  ------             --------------  -----   \n",
      " 0   geometry           2252 non-null   geometry\n",
      " 1   infos              1505 non-null   object  \n",
      " 2   last_scraped_data  0 non-null      object  \n",
      " 3   source             2252 non-null   object  \n",
      " 4   first_updated      0 non-null      object  \n",
      " 5   gadm2_id           1673 non-null   object  \n",
      " 6   gpw                0 non-null      object  \n",
      " 7   pollutants         2252 non-null   object  \n",
      " 8   last_updated       2252 non-null   object  \n",
      " 9   name               2252 non-null   object  \n",
      " 10  names              1384 non-null   object  \n",
      " 11  city_id            2252 non-null   object  \n",
      " 12  show_in_dashboard  2252 non-null   bool    \n",
      " 13  timezone           1919 non-null   object  \n",
      " 14  country_id         2252 non-null   object  \n",
      " 15  gadm1_id           2209 non-null   object  \n",
      " 16  id                 2252 non-null   object  \n",
      " 17  level              2252 non-null   object  \n",
      " 18  attribution        1151 non-null   object  \n",
      " 19  type               497 non-null    object  \n",
      " 20  city_name          2252 non-null   object  \n",
      "dtypes: bool(1), geometry(1), object(19)\n",
      "memory usage: 371.7+ KB\n"
     ]
    }
   ],
   "source": [
    "# Function to check if a station measures pm10\n",
    "# Some stations dont have a proper list. I use try-except to return False instead of throwing an error.\n",
    "def has_pm10(i): \n",
    "    try:                                         \n",
    "        return 'pm10' in pm10_gdf.loc[i,'pollutants']\n",
    "    except:\n",
    "        return False\n",
    "\n",
    "# Create a list with True for each station that has pm10 and False for all others        \n",
    "stations_with_pm10 = [has_pm10(i) for i in pm10_gdf.index]\n",
    "\n",
    "# Remove all stations from the dataframe that do not have pm10\n",
    "pm10_gdf = pm10_gdf.iloc[stations_with_pm10]\n",
    "pm10_gdf.info()    "
   ]
  },
  {
   "cell_type": "markdown",
   "metadata": {},
   "source": [
    "We can see that we have reduced the dataframe by about 4000 rows by removing all non-pm10 stations.  \n",
    "Next we can simply count how many pm10 stations there are by checking how often each country code appears in the 'country_id' column.  "
   ]
  },
  {
   "cell_type": "code",
   "execution_count": 11,
   "metadata": {
    "execution": {
     "iopub.execute_input": "2025-01-09T20:27:45.983329Z",
     "iopub.status.busy": "2025-01-09T20:27:45.982989Z",
     "iopub.status.idle": "2025-01-09T20:27:45.991720Z",
     "shell.execute_reply": "2025-01-09T20:27:45.990237Z",
     "shell.execute_reply.started": "2025-01-09T20:27:45.983301Z"
    },
    "trusted": true
   },
   "outputs": [
    {
     "data": {
      "text/plain": [
       "country_id\n",
       "US    1035\n",
       "IN     536\n",
       "TR     332\n",
       "GB     165\n",
       "TH     162\n",
       "PH      22\n",
       "Name: count, dtype: int64"
      ]
     },
     "execution_count": 11,
     "metadata": {},
     "output_type": "execute_result"
    }
   ],
   "source": [
    "pm10_stations_per_county = pm10_gdf['country_id'].value_counts()  # Count how often each country code appears\n",
    "pm10_stations_per_county                                          # Look at he counts"
   ]
  },
  {
   "cell_type": "markdown",
   "metadata": {},
   "source": [
    "# Putting together the results table  \n",
    "Finally we round things of by putting the results table together and calculating the density of pm10 stations."
   ]
  },
  {
   "cell_type": "code",
   "execution_count": null,
   "metadata": {
    "execution": {
     "iopub.execute_input": "2025-01-09T20:27:45.993295Z",
     "iopub.status.busy": "2025-01-09T20:27:45.992860Z",
     "iopub.status.idle": "2025-01-09T20:27:46.023934Z",
     "shell.execute_reply": "2025-01-09T20:27:46.022671Z",
     "shell.execute_reply.started": "2025-01-09T20:27:45.993256Z"
    },
    "trusted": true
   },
   "outputs": [
    {
     "name": "stdout",
     "output_type": "stream",
     "text": [
      "| Country Name             |   Number of PM10 Stations |   Area (in square kilometers) |   Density of PM10 Stations per 1000 sq. km |\n",
      "|:-------------------------|--------------------------:|------------------------------:|-------------------------------------------:|\n",
      "| United Kingdom           |                       165 |                        243783 |                                      0.677 |\n",
      "| Turkey                   |                       332 |                        780080 |                                      0.426 |\n",
      "| Thailand                 |                       162 |                        514453 |                                      0.315 |\n",
      "| India                    |                       536 |                       3151478 |                                      0.170 |\n",
      "| United States of America |                      1035 |                       9464444 |                                      0.109 |\n",
      "| Philippines              |                        22 |                        293238 |                                      0.075 |\n"
     ]
    }
   ],
   "source": [
    "results = pd.DataFrame(index = countries,  columns = ['Number of PM10 Stations','Area (in square kilometers)','Density of PM10 Stations per 1000 sq. km']) # Create the dataframe\n",
    "results.index.name = \"Country Name\"                                                                                                                        # Set the index name to \"Country Name\"\n",
    "results['Number of PM10 Stations'] = pm10_stations_per_county.rename(index={'US': 'United States of America',                                              # Add number of pm10 stations, but replace country ids with full country names\n",
    "                                                                            'GB': 'United Kingdom',\n",
    "                                                                            'IN': 'India',\n",
    "                                                                            'TR': 'Turkey',\n",
    "                                                                            'TH': 'Thailand',\n",
    "                                                                            'PH': 'Philippines'})\n",
    "results['Area (in square kilometers)'] = areas                                                                                                             # Add country area to table\n",
    "results['Density of PM10 Stations per 1000 sq. km'] = 1000 * results['Number of PM10 Stations'] / results['Area (in square kilometers)']                   # Calculate the station density\n",
    "results = results.sort_values(by = 'Density of PM10 Stations per 1000 sq. km', ascending = False)                                                          # Sort the table after station density in descending order\n",
    "print(results.to_markdown(floatfmt=(\".0f\", \".0f\", \".0f\",\".3f\")))                                                                                           # Print the result table (with the right amount of decimals per column) "
   ]
  }
 ],
 "metadata": {
  "kaggle": {
   "accelerator": "none",
   "dataSources": [],
   "dockerImageVersionId": 30822,
   "isGpuEnabled": false,
   "isInternetEnabled": true,
   "language": "python",
   "sourceType": "notebook"
  },
  "kernelspec": {
   "display_name": "Python 3",
   "language": "python",
   "name": "python3"
  },
  "language_info": {
   "codemirror_mode": {
    "name": "ipython",
    "version": 3
   },
   "file_extension": ".py",
   "mimetype": "text/x-python",
   "name": "python",
   "nbconvert_exporter": "python",
   "pygments_lexer": "ipython3",
   "version": "3.12.4"
  }
 },
 "nbformat": 4,
 "nbformat_minor": 4
}
